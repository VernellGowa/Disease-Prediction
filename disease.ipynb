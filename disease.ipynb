{
 "cells": [
  {
   "cell_type": "code",
   "execution_count": 7,
   "metadata": {},
   "outputs": [],
   "source": [
    "import csv\n",
    "\n",
    "file = 'train'\n",
    "arr = []\n",
    "\n",
    "with open(f\"data/{file}.csv\") as csv_file:\n",
    "    csv_reader = csv.reader(csv_file, delimiter=',')\n",
    "    for row in csv_reader:\n",
    "        if row[-1] == ',':\n",
    "            row.pop()\n",
    "        arr.append(row)\n",
    "\n",
    "with open(f\"data/{file}.csv\", 'w', encoding='UTF8', newline='') as f:\n",
    "    writer = csv.writer(f)\n",
    "\n",
    "    for row in arr:\n",
    "        writer.writerow(row)\n",
    "\n"
   ]
  },
  {
   "cell_type": "code",
   "execution_count": 1,
   "metadata": {},
   "outputs": [],
   "source": [
    "import numpy as np\n",
    "import cv2\n",
    "import pandas as pd\n",
    "\n",
    "def label_to_int(arr, labels):\n",
    "    nums = []\n",
    "    for i in range(len(arr)):\n",
    "        nums.append(labels.index(arr[i]))\n",
    "    return np.asarray(nums)\n",
    "\n",
    "def get_labels(arr):\n",
    "    labels = []\n",
    "    for y in arr:\n",
    "        if y not in labels:\n",
    "            labels.append(y)\n",
    "    return labels\n",
    "\n",
    "directory = 'data/'\n",
    "labels = ['Fungal infection', 'Allergy', 'GERD', 'Chronic cholestasis', 'Drug Reaction', 'Peptic ulcer diseae', 'AIDS', 'Diabetes ', 'Gastroenteritis', 'Bronchial Asthma', 'Hypertension ', 'Migraine', 'Cervical spondylosis', 'Paralysis (brain hemorrhage)', 'Jaundice', 'Malaria', 'Chicken pox', 'Dengue', 'Typhoid', 'hepatitis A', 'Hepatitis B', 'Hepatitis C', 'Hepatitis D', 'Hepatitis E', 'Alcoholic hepatitis', 'Tuberculosis', 'Common Cold', 'Pneumonia', 'Dimorphic hemmorhoids(piles)', 'Heart attack', 'Varicose veins', 'Hypothyroidism', 'Hyperthyroidism', 'Hypoglycemia', 'Osteoarthristis', 'Arthritis', '(vertigo) Paroymsal  Positional Vertigo', 'Acne', 'Urinary tract infection', 'Psoriasis', 'Impetigo']\n",
    "\n",
    "train = pd.read_csv(directory+'train.csv')\n",
    "test = pd.read_csv(directory+'test.csv')\n",
    "\n",
    "x_train = train.iloc[:,:-1].values\n",
    "y_train = train.iloc[:,-1].values\n",
    "\n",
    "x_test = test.iloc[:,:-1].values\n",
    "y_test = test.iloc[:,-1].values\n",
    "\n",
    "y_train = label_to_int(y_train, labels)\n",
    "y_test = label_to_int(y_test, labels)"
   ]
  },
  {
   "cell_type": "code",
   "execution_count": 6,
   "metadata": {},
   "outputs": [
    {
     "name": "stdout",
     "output_type": "stream",
     "text": [
      "Epoch 1/5\n",
      "154/154 [==============================] - 1s 2ms/step - loss: 1.6913 - accuracy: 0.8047\n",
      "Epoch 2/5\n",
      "154/154 [==============================] - 0s 3ms/step - loss: 0.0743 - accuracy: 0.9986\n",
      "Epoch 3/5\n",
      "154/154 [==============================] - 0s 3ms/step - loss: 0.0220 - accuracy: 0.9996\n",
      "Epoch 4/5\n",
      "154/154 [==============================] - 0s 3ms/step - loss: 0.0111 - accuracy: 0.9998\n",
      "Epoch 5/5\n",
      "154/154 [==============================] - 0s 3ms/step - loss: 0.0079 - accuracy: 0.9996\n",
      "2/2 [==============================] - 0s 3ms/step - loss: 0.0440 - accuracy: 0.9762\n"
     ]
    },
    {
     "data": {
      "text/plain": [
       "[0.04399976134300232, 0.976190447807312]"
      ]
     },
     "execution_count": 6,
     "metadata": {},
     "output_type": "execute_result"
    }
   ],
   "source": [
    "import tensorflow as tf\n",
    "\n",
    "model = tf.keras.models.Sequential([\n",
    "    tf.keras.layers.Dense(132, activation='relu'),\n",
    "    tf.keras.layers.Dense(64, activation='relu'),\n",
    "    # tf.keras.layers.Dense(32, activation='relu'),\n",
    "    tf.keras.layers.Dropout(0.2),\n",
    "    tf.keras.layers.Dense(42, activation='softmax')\n",
    "])\n",
    "\n",
    "model.compile(optimizer='adam',\n",
    "              loss='sparse_categorical_crossentropy',\n",
    "              metrics=['accuracy'])\n",
    "\n",
    "model.fit(x_train, y_train, epochs=5)\n",
    "model.evaluate(x_test, y_test)"
   ]
  },
  {
   "cell_type": "code",
   "execution_count": null,
   "metadata": {},
   "outputs": [],
   "source": [
    "train.plot(kind='bar', x='prognosis', y='percentage', title='Percentage of Diseases', figsize=(20, 10))"
   ]
  }
 ],
 "metadata": {
  "kernelspec": {
   "display_name": "Python 3",
   "language": "python",
   "name": "python3"
  },
  "language_info": {
   "codemirror_mode": {
    "name": "ipython",
    "version": 3
   },
   "file_extension": ".py",
   "mimetype": "text/x-python",
   "name": "python",
   "nbconvert_exporter": "python",
   "pygments_lexer": "ipython3",
   "version": "3.10.5"
  },
  "orig_nbformat": 4,
  "vscode": {
   "interpreter": {
    "hash": "3cd7a688bbe6da2b26a1000c223027480957945c963f002b5c3506990d5d3d8e"
   }
  }
 },
 "nbformat": 4,
 "nbformat_minor": 2
}
